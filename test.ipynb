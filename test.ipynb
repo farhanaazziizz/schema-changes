{
 "cells": [
  {
   "cell_type": "code",
   "execution_count": 20,
   "metadata": {},
   "outputs": [
    {
     "name": "stdout",
     "output_type": "stream",
     "text": [
      "List backup: ('backup/20240229-171452-demodb.sql', 'backup/20240229-164303-demodb.sql')\n",
      "DIFF Content: ['', 'CREATE TABLE `petugas_ab` (', '`id` int(11) DEFAULT NULL,', '`nama` varchar(255) DEFAULT NULL', ') ENGINE=InnoDB DEFAULT CHARSET=utf8mb4 COLLATE=utf8mb4_general_ci;', '', '', '']\n",
      "{' CREATE TABLE `petugas_ab` ( `id` int(11) DEFAULT NULL, `nama` varchar(255) DEFAULT NULL ) ENGINE=InnoDB DEFAULT CHARSET=utf8mb4 COLLATE=utf8mb4_general_ci; '}\n"
     ]
    }
   ],
   "source": [
    "import os\n",
    "import difflib\n",
    "\n",
    "def diff_content(path_backup):\n",
    "    files = os.listdir(path_backup)\n",
    "    name_files = sorted(files, reverse=True)\n",
    "    output_file1 = ''.join([path_backup, name_files[0]])\n",
    "    output_file2 = ''.join([path_backup, name_files[1]])\n",
    "    print(f'List backup: {output_file1, output_file2}')\n",
    "\n",
    "    with open(output_file2, 'r') as file1, open(output_file1, 'r') as file2:\n",
    "        file1_lines = file1.readlines()\n",
    "        file2_lines = file2.readlines()\n",
    "\n",
    "    diff = difflib.unified_diff(file1_lines, file2_lines, output_file1, output_file2)\n",
    "    collected_lines = []\n",
    "    \n",
    "    for line in diff:\n",
    "        if not line.startswith(('---', '/*', '+++', '@@', '--', ' --', ' ', '+--', '-', '+COPY', '+\\\\.', 'LOCK', 'UNLOCK')):\n",
    "            if line.startswith('+'):\n",
    "                line_content = line[1:].strip()\n",
    "                if not line_content.startswith(('/*', 'LOCK', 'UNLOCK', 'DROP')):\n",
    "                    collected_lines.append(line_content)\n",
    "            else:\n",
    "                line_content = line.strip()\n",
    "                if line_content and not line_content.startswith(('-', '/*', 'LOCK', 'UNLOCK', 'DROP')):\n",
    "                    collected_lines.append(line_content)\n",
    "    statement = \"\"\n",
    "    clean_sql = []\n",
    "    print(f'DIFF Content: {collected_lines}')\n",
    "    \n",
    "    for line in collected_lines:\n",
    "        statement += line + \" \"\n",
    "        if line.endswith(';'):\n",
    "            clean_sql.append(statement)\n",
    "            statement = \"\"\n",
    "    diff_result = set(clean_sql)\n",
    "    return diff_result\n",
    "\n",
    "\n",
    "path_backup = 'backup/'\n",
    "print(diff_content(path_backup))"
   ]
  },
  {
   "cell_type": "code",
   "execution_count": 16,
   "metadata": {},
   "outputs": [],
   "source": [
    "import difflib\n",
    "\n",
    "path1 = 'backup/20240229-164303-demodb.sql'\n",
    "path2 = 'backup/20240229-171452-demodb.sql'\n",
    "with open(path2, 'r') as file1, open(path2, 'r') as file2:\n",
    "        file1_lines = file1.readlines()\n",
    "        file2_lines = file2.readlines()\n",
    "\n",
    "# print(file1_lines)\n",
    "# print(file2_lines)\n",
    "\n",
    "diff = difflib.unified_diff(file1_lines, file2_lines, path1, path2)\n",
    "for line in diff:\n",
    "        print(line)"
   ]
  },
  {
   "cell_type": "code",
   "execution_count": 17,
   "metadata": {},
   "outputs": [],
   "source": [
    "def diff_content2(file1_path, file2_path):\n",
    "    import difflib\n",
    "\n",
    "    with open(file1_path, 'r') as file1, open(file2_path, 'r') as file2:\n",
    "        file1_lines = file1.readlines()\n",
    "        file2_lines = file2.readlines()\n",
    "\n",
    "    diff = difflib.unified_diff(\n",
    "        file1_lines, file2_lines, file1_path, file2_path)\n",
    "    \n",
    "    # Skip the header lines and lines only present in file1\n",
    "    collected_lines = []  # Daftar untuk mengumpulkan baris yang telah diproses\n",
    "    for line in diff:\n",
    "        if not line.startswith(('---', '/*', '+++', '@@', '--', ' --', ' ', '+--', '-', '+COPY', '+\\\\.', 'LOCK', 'UNLOCK')):\n",
    "            if line.startswith('+'):\n",
    "                line_content = line[1:].strip()\n",
    "                if not line_content.startswith(('/*', 'LOCK', 'UNLOCK', 'DROP')):\n",
    "                    collected_lines.append(line_content)\n",
    "            else:\n",
    "                line_content = line.strip()  # Hapus whitespace di awal dan akhir baris\n",
    "                if line_content and not line_content.startswith(('-', '/*', 'LOCK', 'UNLOCK', 'DROP')):\n",
    "                    collected_lines.append(line_content)\n",
    "\n",
    "    statement = \"\"\n",
    "    clean_sql = []\n",
    "    for line in collected_lines:\n",
    "        statement += line + \" \"\n",
    "        if line.endswith(';'):\n",
    "            # print(statement)\n",
    "            clean_sql.append(statement)\n",
    "            statement = \"\"\n",
    "    return set(clean_sql)\n"
   ]
  },
  {
   "cell_type": "code",
   "execution_count": 19,
   "metadata": {},
   "outputs": [
    {
     "data": {
      "text/plain": [
       "{' CREATE TABLE `petugas_ab` ( `id` int(11) DEFAULT NULL, `nama` varchar(255) DEFAULT NULL ) ENGINE=InnoDB DEFAULT CHARSET=utf8mb4 COLLATE=utf8mb4_general_ci; '}"
      ]
     },
     "execution_count": 19,
     "metadata": {},
     "output_type": "execute_result"
    }
   ],
   "source": [
    "hasil= diff_content2(path1, path2)\n",
    "hasil"
   ]
  },
  {
   "cell_type": "code",
   "execution_count": null,
   "metadata": {},
   "outputs": [],
   "source": []
  }
 ],
 "metadata": {
  "kernelspec": {
   "display_name": "Python 3",
   "language": "python",
   "name": "python3"
  },
  "language_info": {
   "codemirror_mode": {
    "name": "ipython",
    "version": 3
   },
   "file_extension": ".py",
   "mimetype": "text/x-python",
   "name": "python",
   "nbconvert_exporter": "python",
   "pygments_lexer": "ipython3",
   "version": "3.9.6"
  }
 },
 "nbformat": 4,
 "nbformat_minor": 2
}
